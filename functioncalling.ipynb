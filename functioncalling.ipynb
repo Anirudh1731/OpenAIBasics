{
 "cells": [
  {
   "cell_type": "code",
   "execution_count": 65,
   "metadata": {},
   "outputs": [],
   "source": [
    "import openai"
   ]
  },
  {
   "cell_type": "code",
   "execution_count": 66,
   "metadata": {},
   "outputs": [],
   "source": [
    "from dotenv import load_dotenv"
   ]
  },
  {
   "cell_type": "code",
   "execution_count": 67,
   "metadata": {},
   "outputs": [],
   "source": [
    "import os"
   ]
  },
  {
   "cell_type": "code",
   "execution_count": 68,
   "metadata": {},
   "outputs": [],
   "source": [
    "openai.api_key=\"\""
   ]
  },
  {
   "cell_type": "code",
   "execution_count": 69,
   "metadata": {},
   "outputs": [],
   "source": [
    "completion=openai.ChatCompletion.create(\n",
    "    model=\"gpt-3.5-turbo\",\n",
    "    messages=[\n",
    "        {\"role\":\"system\",\"content\":\"You are an assistant whch informs about temperature\"},\n",
    "        {\"role\":\"user\",\"content\":\"Hy there\"}\n",
    "    ]\n",
    ")"
   ]
  },
  {
   "cell_type": "code",
   "execution_count": 70,
   "metadata": {},
   "outputs": [
    {
     "data": {
      "text/plain": [
       "<OpenAIObject at 0x188ffec7d10> JSON: {\n",
       "  \"role\": \"assistant\",\n",
       "  \"content\": \"Hello! How can I assist you today?\"\n",
       "}"
      ]
     },
     "execution_count": 70,
     "metadata": {},
     "output_type": "execute_result"
    }
   ],
   "source": [
    "completion.choices[0].message"
   ]
  },
  {
   "cell_type": "code",
   "execution_count": 71,
   "metadata": {},
   "outputs": [],
   "source": [
    "import requests\n",
    "import json\n",
    "\n",
    "def get_current_weather(location):\n",
    "    url = \"https://ai-weather-by-meteosource.p.rapidapi.com/find_places\"\n",
    "\n",
    "    querystring = {\"text\":location}\n",
    "\n",
    "    headers = {\n",
    "        \n",
    "\t     \"X-RapidAPI-Key\": \"fb0f7df7a4msh7e96ef2aeb9acdep101832jsn5953347c86dc\",\n",
    "\t     \"X-RapidAPI-Host\": \"ai-weather-by-meteosource.p.rapidapi.com\"\n",
    "    }\n",
    "\n",
    "    response = requests.get(url, headers=headers, params=querystring)\n",
    "\n",
    "    print(response.json())\n",
    "\n"
   ]
  },
  {
   "cell_type": "code",
   "execution_count": 74,
   "metadata": {},
   "outputs": [
    {
     "name": "stdout",
     "output_type": "stream",
     "text": [
      "[{'name': 'Hyderabad', 'place_id': 'hyderabad', 'adm_area1': 'Telangana', 'adm_area2': 'Hyderabad', 'country': 'India', 'lat': '17.38405N', 'lon': '78.45636E', 'timezone': 'Asia/Kolkata', 'type': 'settlement'}, {'name': 'Hyderābād', 'place_id': 'hyderabad-1176734', 'adm_area1': 'Sindh', 'adm_area2': 'Hyderābād', 'country': 'Islamic Republic of Pakistan', 'lat': '25.39242N', 'lon': '68.37366E', 'timezone': 'Asia/Karachi', 'type': 'settlement'}, {'name': 'Chak Fifty-four', 'place_id': 'chak-fiftyfour-1382731', 'adm_area1': 'Punjab', 'adm_area2': 'Khānewāl', 'country': 'Islamic Republic of Pakistan', 'lat': '30.47827N', 'lon': '72.23856E', 'timezone': 'Asia/Karachi', 'type': 'settlement'}, {'name': 'Hyderabad', 'place_id': 'hyderabad-1418299', 'adm_area1': 'Punjab', 'adm_area2': 'Lodhrān', 'country': 'Islamic Republic of Pakistan', 'lat': '29.78445N', 'lon': '71.89209E', 'timezone': 'Asia/Karachi', 'type': 'settlement'}, {'name': 'Hyderabad', 'place_id': 'hyderabad-1177364', 'adm_area1': 'Punjab', 'adm_area2': 'Bhakkar', 'country': 'Islamic Republic of Pakistan', 'lat': '31.34602N', 'lon': '71.69621E', 'timezone': 'Asia/Karachi', 'type': 'settlement'}, {'name': 'Hyderabad', 'place_id': 'hyderabad-1362808', 'adm_area1': 'Sindh', 'adm_area2': 'Sānghar', 'country': 'Islamic Republic of Pakistan', 'lat': '25.5N', 'lon': '69.59444E', 'timezone': 'Asia/Karachi', 'type': 'settlement'}, {'name': 'Hyderabad', 'place_id': 'hyderabad-11452300', 'adm_area1': 'Punjab', 'adm_area2': 'Chakwāl', 'country': 'Islamic Republic of Pakistan', 'lat': '33.06676N', 'lon': '73.13763E', 'timezone': 'Asia/Karachi', 'type': 'settlement'}, {'name': 'Hyderabad Division', 'place_id': 'hyderabad-division', 'adm_area1': 'Sindh', 'adm_area2': None, 'country': 'Islamic Republic of Pakistan', 'lat': '25.31426N', 'lon': '68.04064E', 'timezone': 'Asia/Karachi', 'type': 'administrative_area'}, {'name': 'Hyderabad', 'place_id': 'hyderabad-1269844', 'adm_area1': 'Telangana', 'adm_area2': 'Hyderabad', 'country': 'India', 'lat': '17.40164N', 'lon': '78.48976E', 'timezone': 'Asia/Kolkata', 'type': 'administrative_area'}, {'name': 'Hyderābād', 'place_id': 'hyderabad-district-1176733', 'adm_area1': 'Sindh', 'adm_area2': 'Hyderābād', 'country': 'Islamic Republic of Pakistan', 'lat': '25.43244N', 'lon': '68.48421E', 'timezone': 'Asia/Karachi', 'type': 'administrative_area'}]\n"
     ]
    }
   ],
   "source": [
    "response=get_current_weather('Hyderabad')"
   ]
  },
  {
   "cell_type": "code",
   "execution_count": 75,
   "metadata": {},
   "outputs": [
    {
     "name": "stdout",
     "output_type": "stream",
     "text": [
      "None\n"
     ]
    }
   ],
   "source": [
    "print(response)"
   ]
  },
  {
   "cell_type": "code",
   "execution_count": 76,
   "metadata": {},
   "outputs": [],
   "source": [
    "functions = [\n",
    "        {\n",
    "            \"name\": \"get_current_weather\",\n",
    "            \"description\": \"Get the current weather in a given location\",\n",
    "            \"parameters\": {\n",
    "                \"type\":\"object\",\n",
    "                \"properties\":{\n",
    "                    \"locations\":{\n",
    "                        \"type\":\"string\",\n",
    "                        \"description\":\"The city and state , eg. San Francisco, CA\"\n",
    "                    }\n",
    "                },\n",
    "                \"required\":[\"location\"]\n",
    "            },\n",
    "        },    \n",
    "    ]"
   ]
  },
  {
   "cell_type": "code",
   "execution_count": 77,
   "metadata": {},
   "outputs": [
    {
     "data": {
      "text/plain": [
       "[{'name': 'get_current_weather',\n",
       "  'description': 'Get the current weather in a given location',\n",
       "  'parameters': {'type': 'object',\n",
       "   'properties': {'locations': {'type': 'string',\n",
       "     'description': 'The city and state , eg. San Francisco, CA'}},\n",
       "   'required': ['location']}}]"
      ]
     },
     "execution_count": 77,
     "metadata": {},
     "output_type": "execute_result"
    }
   ],
   "source": [
    "functions"
   ]
  },
  {
   "cell_type": "code",
   "execution_count": 78,
   "metadata": {},
   "outputs": [],
   "source": [
    "user_message=\"Hi\"\n",
    "messages=[]\n",
    "\n",
    "messages.append({\"role\":\"user\",\"content\":user_message})\n",
    "\n",
    "completion=openai.ChatCompletion.create(\n",
    "    model=\"gpt-3.5-turbo\",\n",
    "    messages=messages\n",
    ")"
   ]
  },
  {
   "cell_type": "code",
   "execution_count": 79,
   "metadata": {},
   "outputs": [
    {
     "name": "stdout",
     "output_type": "stream",
     "text": [
      "{\n",
      "  \"role\": \"assistant\",\n",
      "  \"content\": \"Hello! How can I assist you today?\"\n",
      "}\n"
     ]
    }
   ],
   "source": [
    "print(completion.choices[0].message)"
   ]
  },
  {
   "cell_type": "code",
   "execution_count": 85,
   "metadata": {},
   "outputs": [],
   "source": [
    "user_message=\"What is the temperature of Hyderabad\"\n",
    "messages=[]\n",
    "\n",
    "messages.append({\"role\":\"user\",\"content\":user_message})\n",
    "\n",
    "completion=openai.ChatCompletion.create(\n",
    "    model=\"gpt-3.5-turbo\",\n",
    "    messages=messages,\n",
    "    functions=functions\n",
    ")"
   ]
  },
  {
   "cell_type": "code",
   "execution_count": 86,
   "metadata": {},
   "outputs": [
    {
     "name": "stdout",
     "output_type": "stream",
     "text": [
      "{\n",
      "  \"id\": \"chatcmpl-96dTPuvgkJ0qfF4Je9r4EnKIrEHfS\",\n",
      "  \"object\": \"chat.completion\",\n",
      "  \"created\": 1711368731,\n",
      "  \"model\": \"gpt-3.5-turbo-0125\",\n",
      "  \"choices\": [\n",
      "    {\n",
      "      \"index\": 0,\n",
      "      \"message\": {\n",
      "        \"role\": \"assistant\",\n",
      "        \"content\": null,\n",
      "        \"function_call\": {\n",
      "          \"name\": \"get_current_weather\",\n",
      "          \"arguments\": \"{\\\"locations\\\":\\\"Hyderabad\\\"}\"\n",
      "        }\n",
      "      },\n",
      "      \"logprobs\": null,\n",
      "      \"finish_reason\": \"function_call\"\n",
      "    }\n",
      "  ],\n",
      "  \"usage\": {\n",
      "    \"prompt_tokens\": 68,\n",
      "    \"completion_tokens\": 16,\n",
      "    \"total_tokens\": 84\n",
      "  },\n",
      "  \"system_fingerprint\": \"fp_3bc1b5746c\"\n",
      "}\n"
     ]
    }
   ],
   "source": [
    "print(completion)"
   ]
  },
  {
   "cell_type": "code",
   "execution_count": 87,
   "metadata": {},
   "outputs": [
    {
     "name": "stdout",
     "output_type": "stream",
     "text": [
      "{\n",
      "  \"role\": \"assistant\",\n",
      "  \"content\": null,\n",
      "  \"function_call\": {\n",
      "    \"name\": \"get_current_weather\",\n",
      "    \"arguments\": \"{\\\"locations\\\":\\\"Hyderabad\\\"}\"\n",
      "  }\n",
      "}\n"
     ]
    }
   ],
   "source": [
    "print(completion.choices[0].message)"
   ]
  },
  {
   "cell_type": "code",
   "execution_count": 88,
   "metadata": {},
   "outputs": [],
   "source": [
    "response=completion.choices[0].message"
   ]
  },
  {
   "cell_type": "code",
   "execution_count": 89,
   "metadata": {},
   "outputs": [
    {
     "name": "stdout",
     "output_type": "stream",
     "text": [
      "{\n",
      "  \"role\": \"assistant\",\n",
      "  \"content\": null,\n",
      "  \"function_call\": {\n",
      "    \"name\": \"get_current_weather\",\n",
      "    \"arguments\": \"{\\\"locations\\\":\\\"Hyderabad\\\"}\"\n",
      "  }\n",
      "}\n"
     ]
    }
   ],
   "source": [
    "print(response)"
   ]
  },
  {
   "cell_type": "code",
   "execution_count": 90,
   "metadata": {},
   "outputs": [],
   "source": [
    "function_name=response['function_call']['name']"
   ]
  },
  {
   "cell_type": "code",
   "execution_count": 91,
   "metadata": {},
   "outputs": [
    {
     "data": {
      "text/plain": [
       "'{\"locations\":\"Hyderabad\"}'"
      ]
     },
     "execution_count": 91,
     "metadata": {},
     "output_type": "execute_result"
    }
   ],
   "source": [
    "response['function_call']['arguments']"
   ]
  },
  {
   "cell_type": "code",
   "execution_count": 92,
   "metadata": {},
   "outputs": [],
   "source": [
    "import json\n",
    "#eval is used to convert string to jsons\n",
    "location=eval(response['function_call']['arguments'])['locations']"
   ]
  },
  {
   "cell_type": "code",
   "execution_count": 93,
   "metadata": {},
   "outputs": [
    {
     "data": {
      "text/plain": [
       "'Hyderabad'"
      ]
     },
     "execution_count": 93,
     "metadata": {},
     "output_type": "execute_result"
    }
   ],
   "source": [
    "location"
   ]
  },
  {
   "cell_type": "code",
   "execution_count": 94,
   "metadata": {},
   "outputs": [],
   "source": [
    "messages.append(response)\n",
    "messages.append(\n",
    "    {\n",
    "        \"role\":\"function\",\n",
    "        \"name\":function_name,\n",
    "        \"content\":location,\n",
    "    }\n",
    ")"
   ]
  },
  {
   "cell_type": "code",
   "execution_count": 95,
   "metadata": {},
   "outputs": [
    {
     "data": {
      "text/plain": [
       "[{'role': 'user', 'content': 'What is the temperature of Hyderabad'},\n",
       " <OpenAIObject at 0x188ffeaaa90> JSON: {\n",
       "   \"role\": \"assistant\",\n",
       "   \"content\": null,\n",
       "   \"function_call\": {\n",
       "     \"name\": \"get_current_weather\",\n",
       "     \"arguments\": \"{\\\"locations\\\":\\\"Hyderabad\\\"}\"\n",
       "   }\n",
       " },\n",
       " {'role': 'function', 'name': 'get_current_weather', 'content': 'Hyderabad'}]"
      ]
     },
     "execution_count": 95,
     "metadata": {},
     "output_type": "execute_result"
    }
   ],
   "source": [
    "messages"
   ]
  },
  {
   "cell_type": "code",
   "execution_count": 98,
   "metadata": {},
   "outputs": [],
   "source": [
    "completion=openai.ChatCompletion.create(\n",
    "    model=\"gpt-3.5-turbo\",\n",
    "    messages=messages,\n",
    "    functions=functions\n",
    ")"
   ]
  },
  {
   "cell_type": "code",
   "execution_count": 99,
   "metadata": {},
   "outputs": [],
   "source": [
    "response=completion.choices[0].message"
   ]
  },
  {
   "cell_type": "code",
   "execution_count": 101,
   "metadata": {},
   "outputs": [
    {
     "name": "stdout",
     "output_type": "stream",
     "text": [
      "The current temperature in Hyderabad is 28°C.\n"
     ]
    }
   ],
   "source": [
    "print(response[\"content\"])"
   ]
  }
 ],
 "metadata": {
  "kernelspec": {
   "display_name": "Python 3",
   "language": "python",
   "name": "python3"
  },
  "language_info": {
   "codemirror_mode": {
    "name": "ipython",
    "version": 3
   },
   "file_extension": ".py",
   "mimetype": "text/x-python",
   "name": "python",
   "nbconvert_exporter": "python",
   "pygments_lexer": "ipython3",
   "version": "3.9.19"
  }
 },
 "nbformat": 4,
 "nbformat_minor": 2
}
